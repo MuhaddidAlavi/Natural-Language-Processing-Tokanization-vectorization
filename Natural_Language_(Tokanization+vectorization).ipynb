{
  "nbformat": 4,
  "nbformat_minor": 0,
  "metadata": {
    "colab": {
      "provenance": [],
      "authorship_tag": "ABX9TyOaPfOz8jj98FnL+xveCQvP",
      "include_colab_link": true
    },
    "kernelspec": {
      "name": "python3",
      "display_name": "Python 3"
    }
  },
  "cells": [
    {
      "cell_type": "markdown",
      "metadata": {
        "id": "view-in-github",
        "colab_type": "text"
      },
      "source": [
        "<a href=\"https://colab.research.google.com/github/MuhaddidAlavi/Natural-Language-Processing-Tokanization-vectorization/blob/main/Natural_Language_(Tokanization%2Bvectorization).ipynb\" target=\"_parent\"><img src=\"https://colab.research.google.com/assets/colab-badge.svg\" alt=\"Open In Colab\"/></a>"
      ]
    },
    {
      "cell_type": "code",
      "metadata": {
        "id": "NTiarR5mUj2U"
      },
      "source": [
        "sentences = ['আমি মাঝে মধ্যেই ফিরে যাই পুরানো কিছু ক্লাসিক বইয়ে', 'বিশেষ করে বেসিক ঝালাই করার জন্য']"
      ],
      "execution_count": null,
      "outputs": []
    },
    {
      "cell_type": "code",
      "metadata": {
        "id": "Cor9Ju08VBYl",
        "colab": {
          "base_uri": "https://localhost:8080/",
          "height": 72
        },
        "outputId": "f8c1e182-f522-468d-e3b6-18706d26b414"
      },
      "source": [
        "import nltk\n",
        "nltk.download('punkt')"
      ],
      "execution_count": null,
      "outputs": [
        {
          "output_type": "stream",
          "text": [
            "[nltk_data] Downloading package punkt to /root/nltk_data...\n",
            "[nltk_data]   Unzipping tokenizers/punkt.zip.\n"
          ],
          "name": "stdout"
        },
        {
          "output_type": "execute_result",
          "data": {
            "text/plain": [
              "True"
            ]
          },
          "metadata": {
            "tags": []
          },
          "execution_count": 2
        }
      ]
    },
    {
      "cell_type": "code",
      "metadata": {
        "id": "cHs0dNa-VNjn",
        "colab": {
          "base_uri": "https://localhost:8080/",
          "height": 35
        },
        "outputId": "ae34d6ef-7df5-495c-b025-dee43ce9db39"
      },
      "source": [
        "from sklearn.feature_extraction.text import CountVectorizer\n",
        "vectorizer = CountVectorizer()\n",
        "vectorizer.fit(sentences)\n",
        "vectorizer.vocabulary_"
      ],
      "execution_count": null,
      "outputs": [
        {
          "output_type": "execute_result",
          "data": {
            "text/plain": [
              "{'আম': 0, 'কর': 1, 'জন': 2, 'বইয়': 3, 'মধ': 4}"
            ]
          },
          "metadata": {
            "tags": []
          },
          "execution_count": 3
        }
      ]
    },
    {
      "cell_type": "code",
      "metadata": {
        "id": "zuOOlOVIZG7H"
      },
      "source": [
        "import warnings \n",
        "warnings.filterwarnings(\"ignore\")"
      ],
      "execution_count": null,
      "outputs": []
    },
    {
      "cell_type": "code",
      "metadata": {
        "id": "XVpSCFA0ZUj4",
        "colab": {
          "base_uri": "https://localhost:8080/",
          "height": 290
        },
        "outputId": "b8d23baf-2d25-486b-f6df-a3dd1baad2aa"
      },
      "source": [
        "from nltk import word_tokenize\n",
        "vectorizer = CountVectorizer(encoding='utf-8',tokenizer=word_tokenize)\n",
        "vectorizer.fit(sentences)\n",
        "vectorizer.vocabulary_"
      ],
      "execution_count": null,
      "outputs": [
        {
          "output_type": "execute_result",
          "data": {
            "text/plain": [
              "{'আমি': 0,\n",
              " 'করার': 1,\n",
              " 'করে': 2,\n",
              " 'কিছু': 3,\n",
              " 'ক্লাসিক': 4,\n",
              " 'জন্য': 5,\n",
              " 'ঝালাই': 6,\n",
              " 'পুরানো': 7,\n",
              " 'ফিরে': 8,\n",
              " 'বইয়ে': 9,\n",
              " 'বিশেষ': 10,\n",
              " 'বেসিক': 11,\n",
              " 'মধ্যেই': 12,\n",
              " 'মাঝে': 13,\n",
              " 'যাই': 14}"
            ]
          },
          "metadata": {
            "tags": []
          },
          "execution_count": 5
        }
      ]
    },
    {
      "cell_type": "code",
      "metadata": {
        "id": "XQYaz6qiae6W",
        "colab": {
          "base_uri": "https://localhost:8080/",
          "height": 55
        },
        "outputId": "d09c30f2-4973-4cb4-ae0a-bb5cfc96e270"
      },
      "source": [
        "print(vectorizer.vocabulary_)"
      ],
      "execution_count": null,
      "outputs": [
        {
          "output_type": "stream",
          "text": [
            "{'আমি': 0, 'মাঝে': 13, 'মধ্যেই': 12, 'ফিরে': 8, 'যাই': 14, 'পুরানো': 7, 'কিছু': 3, 'ক্লাসিক': 4, 'বইয়ে': 9, 'বিশেষ': 10, 'করে': 2, 'বেসিক': 11, 'ঝালাই': 6, 'করার': 1, 'জন্য': 5}\n"
          ],
          "name": "stdout"
        }
      ]
    },
    {
      "cell_type": "code",
      "metadata": {
        "id": "gluNRJSsaymq",
        "colab": {
          "base_uri": "https://localhost:8080/",
          "height": 54
        },
        "outputId": "d229cdb7-e68b-420a-d476-5cbd4d235198"
      },
      "source": [
        "vectorizer.transform(sentences).toarray()"
      ],
      "execution_count": null,
      "outputs": [
        {
          "output_type": "execute_result",
          "data": {
            "text/plain": [
              "array([[1, 0, 0, 1, 1, 0, 0, 1, 1, 1, 0, 0, 1, 1, 1],\n",
              "       [0, 1, 1, 0, 0, 1, 1, 0, 0, 0, 1, 1, 0, 0, 0]])"
            ]
          },
          "metadata": {
            "tags": []
          },
          "execution_count": 7
        }
      ]
    },
    {
      "cell_type": "code",
      "metadata": {
        "id": "MSgPoItvbh2q",
        "colab": {
          "base_uri": "https://localhost:8080/",
          "height": 54
        },
        "outputId": "748c0ae1-473e-4562-87a7-2cc9ea01d59a"
      },
      "source": [
        "vec = CountVectorizer()\n",
        "x = vec.fit_transform(sentences).toarray()\n",
        "print(x.shape)\n",
        "print(vec.get_feature_names())"
      ],
      "execution_count": null,
      "outputs": [
        {
          "output_type": "stream",
          "text": [
            "(2, 5)\n",
            "['আম', 'কর', 'জন', 'বইয়', 'মধ']\n"
          ],
          "name": "stdout"
        }
      ]
    },
    {
      "cell_type": "code",
      "metadata": {
        "id": "jrr3iYQOcK_T",
        "colab": {
          "base_uri": "https://localhost:8080/",
          "height": 290
        },
        "outputId": "a5895edf-800a-4af3-cc86-ff4c0bb70c28"
      },
      "source": [
        "vectorizer = CountVectorizer(encoding='utf-8',token_pattern=r'[\\u0980-\\u09ff]+')\n",
        "vectorizer.fit(sentences)\n",
        "vectorizer.vocabulary_"
      ],
      "execution_count": null,
      "outputs": [
        {
          "output_type": "execute_result",
          "data": {
            "text/plain": [
              "{'আমি': 0,\n",
              " 'করার': 1,\n",
              " 'করে': 2,\n",
              " 'কিছু': 3,\n",
              " 'ক্লাসিক': 4,\n",
              " 'জন্য': 5,\n",
              " 'ঝালাই': 6,\n",
              " 'পুরানো': 7,\n",
              " 'ফিরে': 8,\n",
              " 'বইয়ে': 9,\n",
              " 'বিশেষ': 10,\n",
              " 'বেসিক': 11,\n",
              " 'মধ্যেই': 12,\n",
              " 'মাঝে': 13,\n",
              " 'যাই': 14}"
            ]
          },
          "metadata": {
            "tags": []
          },
          "execution_count": 9
        }
      ]
    },
    {
      "cell_type": "code",
      "metadata": {
        "id": "96_M8QgRc2dH",
        "colab": {
          "base_uri": "https://localhost:8080/",
          "height": 290
        },
        "outputId": "7ff620cc-6f4e-4084-9357-5334f57ca996"
      },
      "source": [
        "from sklearn.feature_extraction.text import TfidfVectorizer\n",
        "\n",
        "vectorizer =TfidfVectorizer(encoding='utf-8', tokenizer=word_tokenize)\n",
        "\n",
        "vectorizer.fit(sentences)\n",
        "vectorizer.vocabulary_"
      ],
      "execution_count": null,
      "outputs": [
        {
          "output_type": "execute_result",
          "data": {
            "text/plain": [
              "{'আমি': 0,\n",
              " 'করার': 1,\n",
              " 'করে': 2,\n",
              " 'কিছু': 3,\n",
              " 'ক্লাসিক': 4,\n",
              " 'জন্য': 5,\n",
              " 'ঝালাই': 6,\n",
              " 'পুরানো': 7,\n",
              " 'ফিরে': 8,\n",
              " 'বইয়ে': 9,\n",
              " 'বিশেষ': 10,\n",
              " 'বেসিক': 11,\n",
              " 'মধ্যেই': 12,\n",
              " 'মাঝে': 13,\n",
              " 'যাই': 14}"
            ]
          },
          "metadata": {
            "tags": []
          },
          "execution_count": 10
        }
      ]
    },
    {
      "cell_type": "code",
      "metadata": {
        "id": "n-5sNOI2eM4n",
        "colab": {
          "base_uri": "https://localhost:8080/",
          "height": 126
        },
        "outputId": "dd1881e3-6052-4121-9ca0-c59a030ef23b"
      },
      "source": [
        "vectorizer.transform(sentences).toarray()"
      ],
      "execution_count": null,
      "outputs": [
        {
          "output_type": "execute_result",
          "data": {
            "text/plain": [
              "array([[0.33333333, 0.        , 0.        , 0.33333333, 0.33333333,\n",
              "        0.        , 0.        , 0.33333333, 0.33333333, 0.33333333,\n",
              "        0.        , 0.        , 0.33333333, 0.33333333, 0.33333333],\n",
              "       [0.        , 0.40824829, 0.40824829, 0.        , 0.        ,\n",
              "        0.40824829, 0.40824829, 0.        , 0.        , 0.        ,\n",
              "        0.40824829, 0.40824829, 0.        , 0.        , 0.        ]])"
            ]
          },
          "metadata": {
            "tags": []
          },
          "execution_count": 11
        }
      ]
    },
    {
      "cell_type": "code",
      "metadata": {
        "id": "qlgazSdKeZoh",
        "colab": {
          "base_uri": "https://localhost:8080/",
          "height": 72
        },
        "outputId": "db54f1ec-bcac-43a4-a3bd-193f559462f9"
      },
      "source": [
        "print(vectorizer.idf_)"
      ],
      "execution_count": null,
      "outputs": [
        {
          "output_type": "stream",
          "text": [
            "[1.40546511 1.40546511 1.40546511 1.40546511 1.40546511 1.40546511\n",
            " 1.40546511 1.40546511 1.40546511 1.40546511 1.40546511 1.40546511\n",
            " 1.40546511 1.40546511 1.40546511]\n"
          ],
          "name": "stdout"
        }
      ]
    },
    {
      "cell_type": "code",
      "metadata": {
        "id": "c1DPNfywe3sk",
        "colab": {
          "base_uri": "https://localhost:8080/",
          "height": 90
        },
        "outputId": "99e82f4e-f044-4a6b-f138-3f456647e246"
      },
      "source": [
        "vector = vectorizer.transform([sentences[0]])\n",
        "print(vector.shape)\n",
        "print(vector.toarray())"
      ],
      "execution_count": null,
      "outputs": [
        {
          "output_type": "stream",
          "text": [
            "(1, 15)\n",
            "[[0.33333333 0.         0.         0.33333333 0.33333333 0.\n",
            "  0.         0.33333333 0.33333333 0.33333333 0.         0.\n",
            "  0.33333333 0.33333333 0.33333333]]\n"
          ],
          "name": "stdout"
        }
      ]
    },
    {
      "cell_type": "code",
      "metadata": {
        "id": "w69B_LocfUaN",
        "colab": {
          "base_uri": "https://localhost:8080/",
          "height": 35
        },
        "outputId": "a7bf9842-dd4c-4801-b4f3-7e68baf5d9e0"
      },
      "source": [
        "cities = ['ঢাকা', 'বার্লিন', 'কুমিল্লা', 'শিকাগো', 'সিঙ্গাপুর']\n",
        "cities"
      ],
      "execution_count": null,
      "outputs": [
        {
          "output_type": "execute_result",
          "data": {
            "text/plain": [
              "['ঢাকা', 'বার্লিন', 'কুমিল্লা', 'শিকাগো', 'সিঙ্গাপুর']"
            ]
          },
          "metadata": {
            "tags": []
          },
          "execution_count": 14
        }
      ]
    },
    {
      "cell_type": "code",
      "metadata": {
        "id": "BbMM24F3fWOF",
        "colab": {
          "base_uri": "https://localhost:8080/",
          "height": 35
        },
        "outputId": "569c63d4-bd59-475f-b6cb-ddc899841bc3"
      },
      "source": [
        "from sklearn.preprocessing import LabelEncoder\n",
        "encoder = LabelEncoder()\n",
        "city_labels = encoder.fit_transform(cities)\n",
        "city_labels"
      ],
      "execution_count": null,
      "outputs": [
        {
          "output_type": "execute_result",
          "data": {
            "text/plain": [
              "array([1, 2, 0, 3, 4])"
            ]
          },
          "metadata": {
            "tags": []
          },
          "execution_count": 15
        }
      ]
    },
    {
      "cell_type": "code",
      "metadata": {
        "id": "gpZeJBLPf63w",
        "colab": {
          "base_uri": "https://localhost:8080/",
          "height": 108
        },
        "outputId": "b6582a3a-f20c-47cb-e2f8-602b2f761756"
      },
      "source": [
        "from sklearn.preprocessing import OneHotEncoder\n",
        "encoder = OneHotEncoder(sparse = False)\n",
        "city_labels = city_labels.reshape((5,1))\n",
        "encoder.fit_transform(city_labels)"
      ],
      "execution_count": null,
      "outputs": [
        {
          "output_type": "execute_result",
          "data": {
            "text/plain": [
              "array([[0., 1., 0., 0., 0.],\n",
              "       [0., 0., 1., 0., 0.],\n",
              "       [1., 0., 0., 0., 0.],\n",
              "       [0., 0., 0., 1., 0.],\n",
              "       [0., 0., 0., 0., 1.]])"
            ]
          },
          "metadata": {
            "tags": []
          },
          "execution_count": 16
        }
      ]
    }
  ]
}